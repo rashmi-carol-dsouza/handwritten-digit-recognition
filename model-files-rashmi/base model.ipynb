{
 "cells": [
  {
   "cell_type": "markdown",
   "id": "00682c92",
   "metadata": {},
   "source": [
    "## Importing Packages"
   ]
  },
  {
   "cell_type": "code",
   "execution_count": 1,
   "id": "8cf1b7ba",
   "metadata": {},
   "outputs": [],
   "source": [
    "from tensorflow.keras.datasets import mnist\n",
    "from matplotlib import pyplot as plt\n",
    "import numpy as np\n",
    "from keras.utils.np_utils import to_categorical\n",
    "from tensorflow.keras.models import Sequential\n",
    "from tensorflow.keras.layers import Activation\n",
    "from tensorflow.keras.layers import Dense\n",
    "from tensorflow.keras.layers import Dropout\n",
    "import os\n",
    "from keras.models import load_model"
   ]
  },
  {
   "cell_type": "markdown",
   "id": "b45d2626",
   "metadata": {},
   "source": [
    "## Loading the data"
   ]
  },
  {
   "cell_type": "code",
   "execution_count": 2,
   "id": "839dd888",
   "metadata": {},
   "outputs": [],
   "source": [
    "(X_train, y_train), (X_test, y_test) = mnist.load_data()"
   ]
  },
  {
   "cell_type": "markdown",
   "id": "ea13a815",
   "metadata": {},
   "source": [
    "## Exploring the data"
   ]
  },
  {
   "cell_type": "code",
   "execution_count": 3,
   "id": "407fe44e",
   "metadata": {},
   "outputs": [
    {
     "data": {
      "image/png": "[encoded data removed]",
      "text/plain": [
       "<Figure size 432x288 with 9 Axes>"
      ]
     },
     "metadata": {},
     "output_type": "display_data"
    }
   ],
   "source": [
    "fig = plt.figure()\n",
    "for i in range(9):\n",
    "    plt.subplot(3,3,i+1)\n",
    "    plt.tight_layout()\n",
    "    plt.imshow(X_train[i], cmap='gray', interpolation='none')\n",
    "    plt.title(\"Digit: {}\".format(y_train[i]))\n",
    "    plt.xticks([])\n",
    "    plt.yticks([])"
   ]
  },
  {
   "cell_type": "code",
   "execution_count": 4,
   "id": "dfdaef55",
   "metadata": {},
   "outputs": [
    {
     "name": "stdout",
     "output_type": "stream",
     "text": [
      "Train: X=(60000, 28, 28), y=(60000,)\n",
      "Test: X=(10000, 28, 28), y=(10000,)\n"
     ]
    }
   ],
   "source": [
    "# summarize loaded dataset\n",
    "print('Train: X=%s, y=%s' % (X_train.shape, y_train.shape))\n",
    "print('Test: X=%s, y=%s' % (X_test.shape, y_test.shape))"
   ]
  },
  {
   "cell_type": "code",
   "execution_count": 5,
   "id": "33df52fc",
   "metadata": {},
   "outputs": [],
   "source": [
    "## Graphing the distribution of the pixel values"
   ]
  },
  {
   "cell_type": "code",
   "execution_count": 6,
   "id": "3b46f246",
   "metadata": {},
   "outputs": [
    {
     "data": {
      "text/plain": [
       "Text(0.5, 1.0, 'Pixel Value Distribution')"
      ]
     },
     "execution_count": 6,
     "metadata": {},
     "output_type": "execute_result"
    },
    {
     "data": {
      "image/png": "[encoded data removed]",
      "text/plain": [
       "<Figure size 432x288 with 2 Axes>"
      ]
     },
     "metadata": {
      "needs_background": "light"
     },
     "output_type": "display_data"
    }
   ],
   "source": [
    "fig = plt.figure()\n",
    "plt.subplot(2,1,1)\n",
    "plt.imshow(X_train[0], cmap='gray', interpolation='none')\n",
    "plt.title(\"Digit: {}\".format(y_train[0]))\n",
    "plt.xticks([])\n",
    "plt.yticks([])\n",
    "plt.subplot(2,1,2)\n",
    "plt.hist(X_train[0].reshape(784))\n",
    "plt.title(\"Pixel Value Distribution\")"
   ]
  },
  {
   "cell_type": "code",
   "execution_count": 7,
   "id": "72a780b7",
   "metadata": {},
   "outputs": [],
   "source": [
    "## Reshaping the input"
   ]
  },
  {
   "cell_type": "code",
   "execution_count": 8,
   "id": "1cebda41",
   "metadata": {},
   "outputs": [
    {
     "name": "stdout",
     "output_type": "stream",
     "text": [
      "Train matrix shape (60000, 784)\n",
      "Test matrix shape (10000, 784)\n"
     ]
    }
   ],
   "source": [
    "# building the input vector from the 28x28 pixels\n",
    "X_train = X_train.reshape(60000, 784)\n",
    "X_test = X_test.reshape(10000, 784)\n",
    "X_train = X_train.astype('float32')\n",
    "X_test = X_test.astype('float32')\n",
    "\n",
    "# normalizing the data to help with the training\n",
    "X_train /= 255\n",
    "X_test /= 255\n",
    "\n",
    "# print the final input shape ready for training\n",
    "print(\"Train matrix shape\", X_train.shape)\n",
    "print(\"Test matrix shape\", X_test.shape)"
   ]
  },
  {
   "cell_type": "code",
   "execution_count": 9,
   "id": "ae8b20db",
   "metadata": {},
   "outputs": [
    {
     "name": "stdout",
     "output_type": "stream",
     "text": [
      "(array([0, 1, 2, 3, 4, 5, 6, 7, 8, 9], dtype=uint8), array([5923, 6742, 5958, 6131, 5842, 5421, 5918, 6265, 5851, 5949],\n",
      "      dtype=int64))\n"
     ]
    }
   ],
   "source": [
    "print(np.unique(y_train, return_counts=True))"
   ]
  },
  {
   "cell_type": "code",
   "execution_count": 10,
   "id": "4a2bfff7",
   "metadata": {},
   "outputs": [
    {
     "name": "stdout",
     "output_type": "stream",
     "text": [
      "Shape before one-hot encoding:  (60000,)\n",
      "Shape after one-hot encoding:  (60000, 10)\n"
     ]
    }
   ],
   "source": [
    "# one-hot encoding using keras' numpy-related utilities\n",
    "n_classes = 10\n",
    "print(\"Shape before one-hot encoding: \", y_train.shape)\n",
    "Y_train = to_categorical(y_train, n_classes)\n",
    "Y_test = to_categorical(y_test, n_classes)\n",
    "print(\"Shape after one-hot encoding: \", Y_train.shape)"
   ]
  },
  {
   "cell_type": "markdown",
   "id": "9dc614b6",
   "metadata": {},
   "source": [
    "## Building the network"
   ]
  },
  {
   "cell_type": "code",
   "execution_count": 11,
   "id": "df7ead30",
   "metadata": {},
   "outputs": [],
   "source": [
    "# building a linear stack of layers with the sequential model\n",
    "model = Sequential()\n",
    "model.add(Dense(512, input_shape=(784,)))\n",
    "model.add(Activation('relu'))                            \n",
    "model.add(Dropout(0.2))\n",
    "\n",
    "model.add(Dense(512))\n",
    "model.add(Activation('relu'))\n",
    "model.add(Dropout(0.2))\n",
    "\n",
    "model.add(Dense(10))\n",
    "model.add(Activation('softmax'))"
   ]
  },
  {
   "cell_type": "code",
   "execution_count": 12,
   "id": "fb1066e6",
   "metadata": {},
   "outputs": [],
   "source": [
    "# # define cnn model\n",
    "# def define_model():\n",
    "#     model = Sequential()\n",
    "#     model.add(Conv2D(32, (3, 3), activation='relu', kernel_initializer='he_uniform', input_shape=(28, 28, 1)))\n",
    "#     model.add(MaxPooling2D((2, 2)))\n",
    "#     model.add(Flatten())\n",
    "#     model.add(Dense(100, activation='relu', kernel_initializer='he_uniform'))\n",
    "#     model.add(Dense(10, activation='softmax'))\n",
    "#     # compile model\n",
    "#     opt = SGD(learning_rate=0.01, momentum=0.9)\n",
    "#     model.compile(optimizer=opt, loss='categorical_crossentropy', metrics=['accuracy'])\n",
    "#     return model"
   ]
  },
  {
   "cell_type": "code",
   "execution_count": 13,
   "id": "2ea280d1",
   "metadata": {},
   "outputs": [],
   "source": [
    "# compiling the sequential model\n",
    "model.compile(loss='categorical_crossentropy', metrics=['accuracy'], optimizer='adam')"
   ]
  },
  {
   "cell_type": "code",
   "execution_count": 14,
   "id": "fb3ec81d",
   "metadata": {},
   "outputs": [
    {
     "name": "stdout",
     "output_type": "stream",
     "text": [
      "Epoch 1/20\n",
      "469/469 - 5s - loss: 0.2487 - accuracy: 0.9255 - val_loss: 0.1177 - val_accuracy: 0.9643 - 5s/epoch - 10ms/step\n",
      "Epoch 2/20\n",
      "469/469 - 5s - loss: 0.1005 - accuracy: 0.9687 - val_loss: 0.0805 - val_accuracy: 0.9741 - 5s/epoch - 10ms/step\n",
      "Epoch 3/20\n",
      "469/469 - 5s - loss: 0.0713 - accuracy: 0.9779 - val_loss: 0.0721 - val_accuracy: 0.9764 - 5s/epoch - 10ms/step\n",
      "Epoch 4/20\n",
      "469/469 - 4s - loss: 0.0569 - accuracy: 0.9814 - val_loss: 0.0623 - val_accuracy: 0.9802 - 4s/epoch - 9ms/step\n",
      "Epoch 5/20\n",
      "469/469 - 4s - loss: 0.0448 - accuracy: 0.9852 - val_loss: 0.0738 - val_accuracy: 0.9770 - 4s/epoch - 9ms/step\n",
      "Epoch 6/20\n",
      "469/469 - 4s - loss: 0.0380 - accuracy: 0.9876 - val_loss: 0.0729 - val_accuracy: 0.9786 - 4s/epoch - 9ms/step\n",
      "Epoch 7/20\n",
      "469/469 - 4s - loss: 0.0333 - accuracy: 0.9885 - val_loss: 0.0732 - val_accuracy: 0.9800 - 4s/epoch - 10ms/step\n",
      "Epoch 8/20\n",
      "469/469 - 4s - loss: 0.0302 - accuracy: 0.9900 - val_loss: 0.0629 - val_accuracy: 0.9818 - 4s/epoch - 8ms/step\n",
      "Epoch 9/20\n",
      "469/469 - 4s - loss: 0.0272 - accuracy: 0.9905 - val_loss: 0.0782 - val_accuracy: 0.9811 - 4s/epoch - 9ms/step\n",
      "Epoch 10/20\n",
      "469/469 - 4s - loss: 0.0260 - accuracy: 0.9912 - val_loss: 0.0706 - val_accuracy: 0.9821 - 4s/epoch - 9ms/step\n",
      "Epoch 11/20\n",
      "469/469 - 4s - loss: 0.0228 - accuracy: 0.9923 - val_loss: 0.0614 - val_accuracy: 0.9822 - 4s/epoch - 9ms/step\n",
      "Epoch 12/20\n",
      "469/469 - 4s - loss: 0.0232 - accuracy: 0.9922 - val_loss: 0.0715 - val_accuracy: 0.9833 - 4s/epoch - 8ms/step\n",
      "Epoch 13/20\n",
      "469/469 - 4s - loss: 0.0212 - accuracy: 0.9927 - val_loss: 0.0648 - val_accuracy: 0.9841 - 4s/epoch - 9ms/step\n",
      "Epoch 14/20\n",
      "469/469 - 5s - loss: 0.0188 - accuracy: 0.9934 - val_loss: 0.0692 - val_accuracy: 0.9836 - 5s/epoch - 10ms/step\n",
      "Epoch 15/20\n",
      "469/469 - 4s - loss: 0.0185 - accuracy: 0.9939 - val_loss: 0.0819 - val_accuracy: 0.9819 - 4s/epoch - 9ms/step\n",
      "Epoch 16/20\n",
      "469/469 - 4s - loss: 0.0160 - accuracy: 0.9947 - val_loss: 0.0802 - val_accuracy: 0.9810 - 4s/epoch - 9ms/step\n",
      "Epoch 17/20\n",
      "469/469 - 4s - loss: 0.0187 - accuracy: 0.9938 - val_loss: 0.0809 - val_accuracy: 0.9829 - 4s/epoch - 9ms/step\n",
      "Epoch 18/20\n",
      "469/469 - 4s - loss: 0.0170 - accuracy: 0.9947 - val_loss: 0.0800 - val_accuracy: 0.9828 - 4s/epoch - 8ms/step\n",
      "Epoch 19/20\n",
      "469/469 - 4s - loss: 0.0152 - accuracy: 0.9949 - val_loss: 0.0804 - val_accuracy: 0.9822 - 4s/epoch - 9ms/step\n",
      "Epoch 20/20\n",
      "469/469 - 4s - loss: 0.0157 - accuracy: 0.9952 - val_loss: 0.0878 - val_accuracy: 0.9831 - 4s/epoch - 9ms/step\n",
      "Saved trained model at results/keras_mnist.h5 \n"
     ]
    },
    {
     "data": {
      "image/png": "[encoded data removed]",
      "text/plain": [
       "<Figure size 432x288 with 2 Axes>"
      ]
     },
     "metadata": {
      "needs_background": "light"
     },
     "output_type": "display_data"
    }
   ],
   "source": [
    "# training the model and saving metrics in history\n",
    "history = model.fit(X_train, Y_train,\n",
    "          batch_size=128, epochs=20,\n",
    "          verbose=2,\n",
    "          validation_data=(X_test, Y_test))\n",
    "\n",
    "# saving the model\n",
    "save_dir = \"results/\"\n",
    "model_name = 'keras_mnist.h5'\n",
    "model_path = os.path.join(save_dir, model_name)\n",
    "model.save(model_path)\n",
    "print('Saved trained model at %s ' % model_path)\n",
    "\n",
    "# plotting the metrics\n",
    "fig = plt.figure()\n",
    "plt.subplot(2,1,1)\n",
    "plt.plot(history.history['accuracy'])\n",
    "plt.plot(history.history['val_accuracy'])\n",
    "plt.title('model accuracy')\n",
    "plt.ylabel('accuracy')\n",
    "plt.xlabel('epoch')\n",
    "plt.legend(['train', 'test'], loc='lower right')\n",
    "\n",
    "plt.subplot(2,1,2)\n",
    "plt.plot(history.history['loss'])\n",
    "plt.plot(history.history['val_loss'])\n",
    "plt.title('model loss')\n",
    "plt.ylabel('loss')\n",
    "plt.xlabel('epoch')\n",
    "plt.legend(['train', 'test'], loc='upper right')\n",
    "plt.tight_layout()"
   ]
  },
  {
   "cell_type": "code",
   "execution_count": 15,
   "id": "dc7049d6",
   "metadata": {},
   "outputs": [
    {
     "name": "stdout",
     "output_type": "stream",
     "text": [
      "313/313 - 1s - loss: 0.0878 - accuracy: 0.9831 - 621ms/epoch - 2ms/step\n",
      "Test Loss 0.08777430653572083\n",
      "Test Accuracy 0.9830999970436096\n"
     ]
    }
   ],
   "source": [
    "mnist_model = load_model(\"results/keras_mnist.h5\")\n",
    "loss_and_metrics = mnist_model.evaluate(X_test, Y_test, verbose=2)\n",
    "\n",
    "print(\"Test Loss\", loss_and_metrics[0])\n",
    "print(\"Test Accuracy\", loss_and_metrics[1])"
   ]
  },
  {
   "cell_type": "code",
   "execution_count": 16,
   "id": "985701c0",
   "metadata": {},
   "outputs": [
    {
     "name": "stdout",
     "output_type": "stream",
     "text": [
      "313/313 [==============================] - 1s 2ms/step\n",
      "\n",
      "9831  classified correctly\n",
      "169  classified incorrectly\n"
     ]
    },
    {
     "data": {
      "image/png": "[encoded data removed]",
      "text/plain": [
       "<Figure size 504x1008 with 18 Axes>"
      ]
     },
     "metadata": {},
     "output_type": "display_data"
    }
   ],
   "source": [
    "# load the model and create predictions on the test set\n",
    "mnist_model = load_model(\"results/keras_mnist.h5\")\n",
    "predicted_probs = mnist_model.predict(X_test)\n",
    "predicted_classes = np.argmax(predicted_probs, axis=1)\n",
    "\n",
    "# see which we predicted correctly and which not\n",
    "correct_indices = np.nonzero(predicted_classes == y_test)[0]\n",
    "incorrect_indices = np.nonzero(predicted_classes != y_test)[0]\n",
    "print()\n",
    "print(len(correct_indices),\" classified correctly\")\n",
    "print(len(incorrect_indices),\" classified incorrectly\")\n",
    "\n",
    "# adapt figure size to accomodate 18 subplots\n",
    "plt.rcParams['figure.figsize'] = (7,14)\n",
    "\n",
    "figure_evaluation = plt.figure()\n",
    "\n",
    "# plot 9 correct predictions\n",
    "for i, correct in enumerate(correct_indices[:9]):\n",
    "    plt.subplot(6,3,i+1)\n",
    "    plt.imshow(X_test[correct].reshape(28,28), cmap='gray', interpolation='none')\n",
    "    plt.title(\"Predicted: {}, Truth: {}\".format(predicted_classes[correct], y_test[correct]))\n",
    "    plt.xticks([])\n",
    "    plt.yticks([])\n",
    "\n",
    "# plot 9 incorrect predictions\n",
    "for i, incorrect in enumerate(incorrect_indices[:9]):\n",
    "    plt.subplot(6,3,i+10)\n",
    "    plt.imshow(X_test[incorrect].reshape(28,28), cmap='gray', interpolation='none')\n",
    "    plt.title(\"Predicted {}, Truth: {}\".format(predicted_classes[incorrect],y_test[incorrect]))\n",
    "    plt.xticks([])\n",
    "    plt.yticks([])\n"
   ]
  },
  {
   "cell_type": "code",
   "execution_count": null,
   "id": "ce5fb2f2",
   "metadata": {},
   "outputs": [],
   "source": []
  }
 ],
 "metadata": {
  "kernelspec": {
   "display_name": "venv",
   "language": "python",
   "name": "venv"
  },
  "language_info": {
   "codemirror_mode": {
    "name": "ipython",
    "version": 3
   },
   "file_extension": ".py",
   "mimetype": "text/x-python",
   "name": "python",
   "nbconvert_exporter": "python",
   "pygments_lexer": "ipython3",
   "version": "3.9.13"
  }
 },
 "nbformat": 4,
 "nbformat_minor": 5
}
